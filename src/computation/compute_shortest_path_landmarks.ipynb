{
 "cells": [
  {
   "cell_type": "code",
   "execution_count": 34,
   "metadata": {},
   "outputs": [],
   "source": [
    "from open3d import io\n",
    "from open3d import geometry\n",
    "from open3d import utility\n",
    "from open3d import visualization\n",
    "import meshcut\n",
    "import scipy.interpolate as si\n",
    "import splipy as sp\n",
    "import numpy as np\n",
    "import os\n",
    "import math\n",
    "import networkx as nx\n",
    "import glob\n",
    "import json\n",
    "import ast\n",
    "from geomdl import BSpline\n",
    "from geomdl import multi\n",
    "from geomdl import knotvector\n",
    "from geomdl import operations\n",
    "from ipywidgets import FloatProgress\n",
    "from IPython.display import display"
   ]
  },
  {
   "cell_type": "code",
   "execution_count": 2,
   "metadata": {},
   "outputs": [],
   "source": [
    "def create_pcd(points):\n",
    "    pcd = geometry.PointCloud()\n",
    "    pcd.points = utility.Vector3dVector(points)\n",
    "    return pcd"
   ]
  },
  {
   "cell_type": "code",
   "execution_count": 5,
   "metadata": {},
   "outputs": [],
   "source": [
    "folderdir = '/Users/nickf/Dropbox/Nicky T-Shirt Project/Subject Scans/Male Scans/Nicholas Ferrara/NF_SCAN_V3/'\n",
    "filedir = f'{folderdir}NF_REGULAR_V1.4.1_M2_ADJ.ply'\n",
    "mesh = io.read_triangle_mesh(filedir)\n",
    "vertices = np.asarray(mesh.vertices)\n",
    "triangles = np.asarray(mesh.triangles)\n",
    "mesh.compute_adjacency_list()\n",
    "mesh.compute_vertex_normals()"
   ]
  },
  {
   "cell_type": "code",
   "execution_count": 6,
   "metadata": {},
   "outputs": [],
   "source": [
    "folderdir = '/Users/nickf/Dropbox/Nicky T-Shirt Project/Subject Scans/Male Scans/Nicholas Ferrara/NF_LANDMARKS/'\n",
    "landmarksdir = '/'.join(folderdir.split('/')[:-2])+'/'+'NF_LANDMARKS.json'\n",
    "pomsdir = '/'.join(folderdir.split('/')[:-2])+'/'+'NF_POMS_V2.json'\n",
    "with open(landmarksdir, 'r') as readlandmarks:\n",
    "    landmarks = json.load(readlandmarks)\n",
    "    with open(pomsdir, 'r') as readpoms:\n",
    "        poms = json.load(readpoms)\n",
    "        pom_landmarks = {}\n",
    "        for key in poms:\n",
    "            landmark_points = []\n",
    "            for temp_key in poms[key]['landmarks']:\n",
    "                landmark_points.append(landmarks[temp_key]['position'])\n",
    "            landmark_dict = {\n",
    "                'landmark_points': np.asarray(landmark_points),\n",
    "                'periodic': poms[key]['periodic']\n",
    "            }\n",
    "            pom_landmarks[key] = landmark_dict\n",
    "\n",
    "adj_list = mesh.adjacency_list\n",
    "edges = []\n",
    "for idx in range(len(vertices)):\n",
    "    for n_idx in list(adj_list[idx]):\n",
    "        edge = sorted([idx, n_idx])\n",
    "        edges.append(edge)\n",
    "edges = [(tuple(vertices[v1]), tuple(vertices[v2])) for v1, v2 in np.unique(np.asarray(edges), axis=0).tolist()]\n",
    "G=nx.Graph()\n",
    "G.add_edges_from(edges)"
   ]
  },
  {
   "cell_type": "code",
   "execution_count": 36,
   "metadata": {},
   "outputs": [
    {
     "name": "stdout",
     "output_type": "stream",
     "text": [
      "637.8681974632643\n",
      "580.9969368061585\n",
      "433.08479271681307\n",
      "345.24893259381093\n",
      "670.8767434042348\n",
      "120.29614154571527\n",
      "420.6769908727921\n",
      "243.0317625101468\n",
      "330.46286261974325\n",
      "530.9262902346906\n",
      "326.23742039127313\n",
      "674.4453112416255\n",
      "112.08248345876048\n",
      "415.28643952503637\n",
      "240.16908555477286\n",
      "315.0843441256055\n",
      "527.8494081523313\n",
      "1011.6531432807348\n",
      "371.93514929196897\n",
      "382.7058662394\n",
      "508.8235537518325\n",
      "403.79343148096586\n",
      "1081.7210166834702\n"
     ]
    }
   ],
   "source": [
    "def path_weight(a, b):\n",
    "    global point_a\n",
    "    global point_b\n",
    "    global normal\n",
    "    u = np.array(b) - np.array(a)\n",
    "    u_length = np.sqrt(np.dot(u,u))\n",
    "    if type(normal) is type(None):\n",
    "        v = np.array(point_b) - np.array(point_a) \n",
    "        v_length = np.sqrt(np.dot(v,v))\n",
    "        tan = abs(math.tan(math.acos(abs(np.dot(u, v)) / (v_length*u_length+1e-6))))\n",
    "        return tan*u_length*(tan**2 + u_length**2)**0.5\n",
    "    else:\n",
    "        n_length = np.sqrt(np.dot(normal,normal))\n",
    "        tan = 1/abs(math.tan(math.acos(abs(np.dot(u, normal)) / (n_length*u_length+1e-6))))\n",
    "        return tan*u_length*(tan**2 + u_length**2)**0.5\n",
    "\n",
    "pom_paths = []\n",
    "for key in pom_landmarks:\n",
    "    points = pom_landmarks[key]['landmark_points']\n",
    "    if key == 'TOTALNECK':\n",
    "        normal = None\n",
    "    else:\n",
    "        normal = None\n",
    "        #mean = points.mean(axis=0)\n",
    "        #normal = np.linalg.svd(points - mean)[2][2]\n",
    "    path = []\n",
    "    if pom_landmarks[key]['periodic']:\n",
    "        for i in range(-1, len(points)-1):\n",
    "            point_a = points[i]\n",
    "            point_b = points[i+1]\n",
    "            path.extend(nx.astar_path(G, tuple(point_a), tuple(point_b), path_weight))\n",
    "    else:\n",
    "        for i in range(len(points)-1):\n",
    "            point_a = points[i]\n",
    "            point_b = points[i+1]\n",
    "            path.extend(nx.astar_path(G, tuple(point_a), tuple(point_b), path_weight))\n",
    "    pom_paths.append(np.array(path))\n",
    "\n",
    "path_curves = []\n",
    "for path in pom_paths:\n",
    "    create_mesh = False\n",
    "    if create_mesh:\n",
    "        path_mesh = geometry.TriangleMesh()\n",
    "        triangles_idx = []\n",
    "        for vertex in path:\n",
    "            idx = int(np.argwhere((vertices == vertex).all(axis=1)))\n",
    "            for t_idx in np.argwhere((triangles == idx).any(1)).tolist():\n",
    "                triangles_idx.extend(t_idx)\n",
    "        path_mesh.vertices = utility.Vector3dVector(vertices)\n",
    "        path_mesh.triangles = utility.Vector3iVector(np.unique(triangles[triangles_idx], axis=0))\n",
    "    crv = BSpline.Curve()\n",
    "    degree = 4\n",
    "    if degree > len(path) - 1:\n",
    "        degree = len(path) - 1\n",
    "    crv.degree = degree\n",
    "    crv.ctrlpts = path.tolist()\n",
    "    crv.knotvector = knotvector.generate(crv.degree, crv.ctrlpts_size)\n",
    "    crv.delta = 0.0005\n",
    "    crv_points = crv.evalpts\n",
    "    print(operations.length_curve(crv))\n",
    "    path_curves.append(create_pcd(crv_points))\n",
    "    if create_mesh:\n",
    "        path_curves.append(path_mesh)"
   ]
  },
  {
   "cell_type": "code",
   "execution_count": 13,
   "metadata": {},
   "outputs": [],
   "source": [
    "visualization.draw_geometries(path_curves)"
   ]
  },
  {
   "cell_type": "code",
   "execution_count": 37,
   "metadata": {},
   "outputs": [
    {
     "data": {
      "text/plain": [
       "dict_keys(['CBLENGTH', 'CFLENGTH', 'CROSSSHOULDER', 'LBICEPBELOWAH', 'LFLENGTHFROMHPS', 'LSHOULDER', 'LSIDESEAM', 'LSLEEVE', 'LSLEEVEOPENING', 'LTOTALAH', 'RBICEPBELOWAH', 'RFLENGTHFROMHPS', 'RSHOULDER', 'RSIDESEAM', 'RSLEEVE', 'RSLEEVEOPENING', 'RTOTALAH', 'TOTALBELOWAH', 'FRONTBELOWHPS', 'BACKBELOWHPS', 'TOTALNECK', 'TOTALNECKBAND', 'TOTALSWEEP'])"
      ]
     },
     "execution_count": 37,
     "metadata": {},
     "output_type": "execute_result"
    }
   ],
   "source": [
    "pom_landmarks.keys()"
   ]
  },
  {
   "cell_type": "code",
   "execution_count": 33,
   "metadata": {},
   "outputs": [
    {
     "ename": "AttributeError",
     "evalue": "module 'geomdl.visualization' has no attribute 'VisMPL'",
     "output_type": "error",
     "traceback": [
      "\u001b[0;31m---------------------------------------------------------------------------\u001b[0m",
      "\u001b[0;31mAttributeError\u001b[0m                            Traceback (most recent call last)",
      "\u001b[0;32m<ipython-input-33-6ea6b6b9c6ba>\u001b[0m in \u001b[0;36m<module>\u001b[0;34m\u001b[0m\n\u001b[1;32m      1\u001b[0m \u001b[0;32mfrom\u001b[0m \u001b[0mgeomdl\u001b[0m \u001b[0;32mimport\u001b[0m \u001b[0mvisualization\u001b[0m\u001b[0;34m\u001b[0m\u001b[0;34m\u001b[0m\u001b[0m\n\u001b[0;32m----> 2\u001b[0;31m \u001b[0mhelp\u001b[0m\u001b[0;34m(\u001b[0m\u001b[0mvisualization\u001b[0m\u001b[0;34m.\u001b[0m\u001b[0mVisMPL\u001b[0m\u001b[0;34m)\u001b[0m\u001b[0;34m\u001b[0m\u001b[0;34m\u001b[0m\u001b[0m\n\u001b[0m",
      "\u001b[0;31mAttributeError\u001b[0m: module 'geomdl.visualization' has no attribute 'VisMPL'"
     ]
    }
   ],
   "source": [
    "from geomdl import visualization\n",
    "help(visualization.VisMPL)"
   ]
  },
  {
   "cell_type": "code",
   "execution_count": null,
   "metadata": {},
   "outputs": [],
   "source": []
  }
 ],
 "metadata": {
  "kernelspec": {
   "display_name": "Python 3",
   "language": "python",
   "name": "python3"
  },
  "language_info": {
   "codemirror_mode": {
    "name": "ipython",
    "version": 3
   },
   "file_extension": ".py",
   "mimetype": "text/x-python",
   "name": "python",
   "nbconvert_exporter": "python",
   "pygments_lexer": "ipython3",
   "version": "3.7.3"
  }
 },
 "nbformat": 4,
 "nbformat_minor": 2
}
