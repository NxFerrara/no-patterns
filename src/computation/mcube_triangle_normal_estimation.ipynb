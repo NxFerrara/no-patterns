{
 "cells": [
  {
   "cell_type": "code",
   "execution_count": 25,
   "metadata": {},
   "outputs": [
    {
     "name": "stderr",
     "output_type": "stream",
     "text": [
      "searching for scad in: /Library/Frameworks/Python.framework/Versions/3.7/bin:/Library/Frameworks/Python.framework/Versions/3.7/bin:/anaconda3/envs/custom/bin:/anaconda3/condabin:/usr/local/bin:/usr/bin:/bin:/usr/sbin:/sbin:/Applications/OpenSCAD.app/Contents/MacOS\n"
     ]
    }
   ],
   "source": [
    "from open3d import utility\n",
    "from open3d import geometry\n",
    "from open3d import io\n",
    "from open3d import visualization\n",
    "import itertools as it\n",
    "import trimesh\n",
    "import numpy as np\n",
    "import math\n",
    "import glob\n",
    "import random\n",
    "from ipywidgets import FloatProgress\n",
    "from IPython.display import display"
   ]
  },
  {
   "cell_type": "code",
   "execution_count": 3,
   "metadata": {},
   "outputs": [],
   "source": [
    "class Box:\n",
    "    \n",
    "    def __init__(self, points, grid_idx):\n",
    "        self.points = points\n",
    "        self.adjacent_boxes = []\n",
    "        self.grid_idx = grid_idx \n",
    "\n",
    "class Grid:\n",
    "    \n",
    "    def __init__(self, points, density):\n",
    "        self.points = points\n",
    "        self.density = density\n",
    "        self.boxes = []\n",
    "        self.nonempty_boxes = []\n",
    "        self.box_dimensions = None\n",
    "        self.grid_dimensions = None\n",
    "        self.total_boxes = None\n",
    "        self.get_box_dimensions()\n",
    "        self.create_grid()\n",
    "    \n",
    "    def get_box_dimensions(self):\n",
    "        pcd = geometry.PointCloud()\n",
    "        pcd.points = utility.Vector3dVector(self.points)\n",
    "        tree = geometry.KDTreeFlann(pcd)\n",
    "        box_boundaries = []\n",
    "        for point in self.points:\n",
    "            [_, neighbors_idx, _] = tree.search_knn_vector_3d(point, self.density)\n",
    "            neighbor_points = []\n",
    "            for idx in neighbors_idx:\n",
    "                neighbor_points.append(self.points[idx])\n",
    "            neighbor_points = np.asarray(neighbor_points)\n",
    "            neighbor_boundary = neighbor_points.max(axis=0) - neighbor_points.min(axis=0)\n",
    "            box_boundaries.append(neighbor_boundary)\n",
    "        box_dimensions = np.mean(np.asarray(box_boundaries), axis=0)\n",
    "        bounding_box = pcd.get_max_bound() - pcd.get_min_bound()\n",
    "        grid_dimensions = (bounding_box/box_dimensions).astype(np.int64)\n",
    "        box_dimensions = bounding_box/grid_dimensions\n",
    "        total_boxes = grid_dimensions[0] * grid_dimensions[1] * grid_dimensions[2]\n",
    "        self.box_dimensions = box_dimensions\n",
    "        self.grid_dimensions = grid_dimensions\n",
    "        self.total_boxes = total_boxes\n",
    "        \n",
    "    def get_nonempty_boxes(self):\n",
    "        nonempty_boxes = []\n",
    "        for box in self.boxes:\n",
    "            if len(box.points) > 2:\n",
    "                nonempty_boxes.append(box)\n",
    "        self.nonempty_boxes = nonempty_boxes\n",
    "    \n",
    "    def get_adjacent_boxes(self):\n",
    "        for current_box in self.nonempty_boxes:\n",
    "            adjacent_boxes = []\n",
    "            idx_y, idx_z, idx_x = current_box.grid_idx\n",
    "            for i in range(-1,2):\n",
    "                for j in range(-1,2):\n",
    "                    for k in range(-1,2):\n",
    "                        if not (i == 0 and j == 0 and k == 0):\n",
    "                            for box in self.nonempty_boxes:\n",
    "                                if box.grid_idx == (idx_y+i, idx_z+j, idx_x+k):\n",
    "                                    adjacent_boxes.append(box)\n",
    "            current_box.adjacent_boxes = adjacent_boxes\n",
    "        \n",
    "    def create_grid(self):\n",
    "        print('|Starting Grid|\\n')\n",
    "        print(f'Number of Neighbors: {self.density}')\n",
    "        print(f'Number of Boxes: {self.total_boxes}')\n",
    "        print(f'Grid Dimensions: {self.grid_dimensions}')\n",
    "        print(f'Box Dimensions: {self.box_dimensions}')\n",
    "        \n",
    "        points = self.points\n",
    "        min_x, min_y, min_z = points.min(axis=0)\n",
    "        current_x, current_y, current_z = min_x, min_y, min_z\n",
    "        grid_x, grid_y, grid_z = self.grid_dimensions\n",
    "        box_x, box_y, box_z = self.box_dimensions\n",
    "        \n",
    "        boxes = []\n",
    "\n",
    "        f = FloatProgress(min=0, max=self.total_boxes)\n",
    "        display(f)\n",
    "\n",
    "        for idx_y in range(grid_y):\n",
    "            interval_y = points[points[:,1] < current_y + box_y]\n",
    "            interval_y = interval_y[interval_y[:,1] >= current_y]\n",
    "            for idx_z in range(grid_z):\n",
    "                interval_z = interval_y[interval_y[:,2] < current_z + box_z]\n",
    "                interval_z = interval_z[interval_z[:,2] >= current_z]\n",
    "                for idx_x in range(grid_x):\n",
    "                    interval_x = interval_z[interval_z[:,0] < current_x + box_x]\n",
    "                    interval_x = interval_x[interval_x[:,0] >= current_x]\n",
    "                    grid_idx = (idx_y,idx_z,idx_x)\n",
    "                    box_points = []\n",
    "                    for point in interval_x:\n",
    "                        box_points.append(Point(point))\n",
    "                    current_box = Box(box_points, grid_idx)\n",
    "                    boxes.append(current_box)\n",
    "                    current_x += box_x\n",
    "                    f.value += 1\n",
    "                current_x = min_x\n",
    "                current_z += box_z\n",
    "            current_z = min_z\n",
    "            current_y += box_y\n",
    "        self.boxes = boxes\n",
    "        self.get_nonempty_boxes()\n",
    "        self.get_adjacent_boxes()\n",
    "        print('\\n|Grid Complete|')"
   ]
  },
  {
   "cell_type": "code",
   "execution_count": 4,
   "metadata": {},
   "outputs": [],
   "source": [
    "class Point:\n",
    "    \n",
    "    def __init__(self, position):\n",
    "        self.x, self.y, self.z = position\n",
    "        self.idx = None\n",
    "        self.state = 0\n",
    "        \n",
    "    def __eq__(self, other):\n",
    "        if not isinstance(other, Point): return NotImplemented\n",
    "        return self.x == other.x and self.y == other.y and self.z == other.z\n",
    "    \n",
    "    def __sub__(self, other):\n",
    "        if not isinstance(other, Point): return NotImplemented\n",
    "        return (self.x - other.x, self.y - other.y, self.z - other.z)\n",
    "    \n",
    "    def __add__(self, other):\n",
    "        if not isinstance(other, Point): return NotImplemented\n",
    "        return (self.x + other.x, self.y + other.y, self.z + other.z)\n",
    "    \n",
    "    def position(self):\n",
    "        return (self.x, self.y, self.z)\n",
    "    \n",
    "    \n",
    "class Edge:\n",
    "    \n",
    "    def __init__(self, vertices):\n",
    "        self.vertices = vertices\n",
    "        self.state = 0\n",
    "    \n",
    "    def __eq__(self, other):\n",
    "        if not isinstance(other, Edge): return NotImplemented\n",
    "        for vertex in other.vertices:\n",
    "            if not vertex in self.vertices:\n",
    "                return False\n",
    "        return True\n",
    "\n",
    "    \n",
    "class Triangle:\n",
    "    \n",
    "    def __init__(self, vertices, edges):\n",
    "        self.vertices = vertices\n",
    "        self.edges = edges\n",
    "    \n",
    "    def angle_fitness(self, vertices):\n",
    "        v1, v2, v3 = vertices\n",
    "        for vertex in self.vertices:\n",
    "            if not vertex in vertices:\n",
    "                v0 = vertex\n",
    "        u = Vector(v0 - v1)\n",
    "        v = Vector(v2 - v1)\n",
    "        n1 = v.cross(u)\n",
    "        u = Vector(v3 - v1)\n",
    "        n2 = u.cross(v)\n",
    "        return abs(np.tan(n1.angle(n2)))\n",
    "    \n",
    "    def expanding_vector(self, edge):\n",
    "        v1, v2 = edge.vertices\n",
    "        for vertex in self.vertices:\n",
    "            if not vertex in edge.vertices:\n",
    "                v3 = vertex\n",
    "        w = Vector(v3 - v1)\n",
    "        v = Vector(v2 - v1)\n",
    "        v = v.unit_vector()\n",
    "        e = v * v.dot(w) - w\n",
    "        return e.unit_vector()\n",
    "        \n",
    "\n",
    "class Vector:\n",
    "    \n",
    "    def __init__(self, vector):\n",
    "        self.x, self.y, self.z = vector\n",
    "    \n",
    "    def __sub__(self, other):\n",
    "        return Vector((self.x - other.x, self.y - other.y, self.z - other.z))\n",
    "    \n",
    "    def __truediv__(self, constant):\n",
    "        return Vector((self.x / constant, self.y / constant, self.z / constant))\n",
    "    \n",
    "    def __mul__(self, constant):\n",
    "        return Vector((self.x * constant, self.y * constant, self.z * constant))\n",
    "    \n",
    "    def dot(self, other):\n",
    "        return self.x*other.x + self.y*other.y + self.z*other.z\n",
    "    \n",
    "    def cross(self, other):\n",
    "        x = self.y*other.z-self.z*other.y\n",
    "        y = self.z*other.x-self.x*other.z\n",
    "        z = self.x*other.y-self.y*other.x\n",
    "        return Vector((x, y, z))\n",
    "    \n",
    "    def length(self):\n",
    "        return self.dot(self)**0.5\n",
    "    \n",
    "    def angle(self, other):\n",
    "        cosine_angle = self.dot(other) / (self.length()*other.length())\n",
    "        return np.arccos(cosine_angle)\n",
    "    \n",
    "    def unit_vector(self):\n",
    "        return self / self.length()\n",
    "    \n",
    "    def position(self):\n",
    "        return (self.x, self.y, self.z)\n",
    "\n",
    "    \n",
    "class PointCloud:\n",
    "    \n",
    "    def __init__(self):\n",
    "        self.points = []\n",
    "        self.grid = None\n",
    "        self.pcd = None\n",
    "        \n",
    "    def read(self, filedir):\n",
    "        try:\n",
    "            self.pcd = io.read_point_cloud(filedir)\n",
    "            self.points = np.asarray(self.pcd.points)\n",
    "        except OSError:\n",
    "            print('File Directory does not exist')\n",
    "        \n",
    "    def rotate(self, angle):\n",
    "        points = self.points\n",
    "        x = points[:,0]\n",
    "        y = points[:,2] + abs(points[:,2].min())\n",
    "        z = points[:,1]\n",
    "        points = np.array([x, y, z]).transpose()\n",
    "        angle = math.radians(angle)\n",
    "        theta = [0,angle,0]\n",
    "        r_x = np.array([[1,0,0],[0,math.cos(theta[0]),-math.sin(theta[0])],[0,math.sin(theta[0]),math.cos(theta[0])]])\n",
    "        r_y = np.array([[math.cos(theta[1]),0,math.sin(theta[1])],[0,1,0],[-math.sin(theta[1]),0,math.cos(theta[1])]])\n",
    "        r_z = np.array([[math.cos(theta[2]),-math.sin(theta[2]),0],[math.sin(theta[2]),math.cos(theta[2]),0],[0,0,1]])   \n",
    "        r = np.dot(r_z, np.dot(r_y,r_x))\n",
    "        self.points = np.matmul(points, r)\n",
    "        \n",
    "    def create_grid(self, density=20):\n",
    "        self.grid = Grid(self.points, density)"
   ]
  },
  {
   "cell_type": "code",
   "execution_count": 5,
   "metadata": {},
   "outputs": [],
   "source": [
    "folderdir = '/Users/nickf/Desktop/Custom-Fit/Data/Body-Datasets/Caesar-Data/CSRFM_PCD/'\n",
    "filedirs = glob.glob(f'{folderdir}/*.ply')\n",
    "file_num = 10\n",
    "point_cloud = PointCloud()\n",
    "point_cloud.read(filedirs[file_num])\n",
    "point_cloud.rotate(232)"
   ]
  },
  {
   "cell_type": "code",
   "execution_count": 6,
   "metadata": {},
   "outputs": [
    {
     "name": "stdout",
     "output_type": "stream",
     "text": [
      "|Starting Grid|\n",
      "\n",
      "Number of Neighbors: 20\n",
      "Number of Boxes: 2958\n",
      "Grid Dimensions: [17 29  6]\n",
      "Box Dimensions: [49.88368497 61.93748647 47.78697507]\n"
     ]
    },
    {
     "data": {
      "application/vnd.jupyter.widget-view+json": {
       "model_id": "d519420df6bb4d2e9c655efbd9b6337c",
       "version_major": 2,
       "version_minor": 0
      },
      "text/plain": [
       "FloatProgress(value=0.0, max=2958.0)"
      ]
     },
     "metadata": {},
     "output_type": "display_data"
    },
    {
     "name": "stdout",
     "output_type": "stream",
     "text": [
      "\n",
      "|Grid Complete|\n"
     ]
    }
   ],
   "source": [
    "point_cloud.create_grid(density=20)"
   ]
  },
  {
   "cell_type": "code",
   "execution_count": 48,
   "metadata": {},
   "outputs": [],
   "source": [
    "def visual(geometries, renderfile='/Users/nickf/Desktop/Custom-Fit/Scripts/render.json'):\n",
    "    render = visualization.RenderOption()\n",
    "    render.load_from_json(renderfile)\n",
    "    visualization.draw_geometries(geometries)\n",
    "\n",
    "def create_pcd(points):\n",
    "    pcd = geometry.PointCloud()\n",
    "    pcd.points = utility.Vector3dVector(points)\n",
    "    return pcd\n",
    "\n",
    "def create_mesh(vertices, triangles):\n",
    "    mesh = geometry.TriangleMesh()\n",
    "    mesh.vertices = utility.Vector3dVector(vertices)\n",
    "    mesh.triangles = utility.Vector3iVector(triangles)\n",
    "    return mesh\n",
    "\n",
    "    \n",
    "def estimate_normals(pcd, knn_factor=3):\n",
    "    knn = int(len(pcd.points) / knn_factor)\n",
    "    if knn < 2:\n",
    "        knn = 2\n",
    "    geometry.estimate_normals(pcd, geometry.KDTreeSearchParamKNN(knn))\n",
    "    pcd.normalize_normals()\n",
    "    points = np.asarray(pcd.points)\n",
    "    tree = geometry.KDTreeFlann(pcd)\n",
    "    for idx in range(len(points)):\n",
    "        [_, neighbors_idx, _] = tree.search_knn_vector_3d(points[idx], knn+1)\n",
    "        edges = list(it.permutations(neighbors_idx[1:], 2))\n",
    "        triangles = np.array([(idx, edge[0], edge[1]) for edge in edges])\n",
    "        mesh = create_mesh(points, triangles)\n",
    "        mesh.compute_triangle_normals()\n",
    "        return mesh\n",
    "            \n",
    "            "
   ]
  },
  {
   "cell_type": "code",
   "execution_count": 49,
   "metadata": {},
   "outputs": [],
   "source": [
    "box_idx = 0\n",
    "current_box = point_cloud.grid.nonempty_boxes[box_idx]\n",
    "points = np.array([point.position() for point in current_box.points])\n",
    "pcd = create_pcd(points)"
   ]
  },
  {
   "cell_type": "code",
   "execution_count": 52,
   "metadata": {},
   "outputs": [],
   "source": [
    "mesh = estimate_normals(pcd)\n",
    "lineset = geometry.create_line_set_from_triangle_mesh(mesh)\n",
    "visual([pcd, mesh, lineset])"
   ]
  },
  {
   "cell_type": "code",
   "execution_count": 57,
   "metadata": {},
   "outputs": [],
   "source": [
    "visual([create_pcd(np.asarray(mesh.triangle_normals))])"
   ]
  },
  {
   "cell_type": "code",
   "execution_count": 63,
   "metadata": {},
   "outputs": [],
   "source": [
    "geometry.estimate_normals(point_cloud.pcd, geometry.KDTreeSearchParamKNN(10))\n",
    "point_cloud.pcd.normalize_normals()\n",
    "visual([point_cloud.pcd])"
   ]
  },
  {
   "cell_type": "code",
   "execution_count": 125,
   "metadata": {},
   "outputs": [
    {
     "data": {
      "text/plain": [
       "array([11,  3, 25], dtype=int32)"
      ]
     },
     "execution_count": 125,
     "metadata": {},
     "output_type": "execute_result"
    }
   ],
   "source": [
    "voxelgrid = geometry.create_surface_voxel_grid_from_point_cloud(point_cloud.pcd, voxel_size=50)\n",
    "voxelgrid.voxels[0].grid_index"
   ]
  },
  {
   "cell_type": "code",
   "execution_count": 128,
   "metadata": {},
   "outputs": [
    {
     "data": {
      "text/plain": [
       "array([ 5,  6, 16], dtype=int32)"
      ]
     },
     "execution_count": 128,
     "metadata": {},
     "output_type": "execute_result"
    }
   ],
   "source": [
    "\n",
    "voxelgrid.get_voxel(np.asarray(point_cloud.pcd.points)[0])"
   ]
  },
  {
   "cell_type": "code",
   "execution_count": 145,
   "metadata": {},
   "outputs": [],
   "source": [
    "import mcubes\n",
    "vertices, triangles = mcubes.marching_cubes(u, 0)"
   ]
  },
  {
   "cell_type": "code",
   "execution_count": 146,
   "metadata": {},
   "outputs": [],
   "source": [
    "mesh = create_mesh(vertices, triangles)\n",
    "mesh.compute_vertex_normals()\n",
    "lineset = geometry.create_line_set_from_triangle_mesh(mesh)\n",
    "visual([mesh, lineset])"
   ]
  },
  {
   "cell_type": "code",
   "execution_count": 165,
   "metadata": {},
   "outputs": [],
   "source": [
    "x, y, z = points.T"
   ]
  },
  {
   "cell_type": "code",
   "execution_count": null,
   "metadata": {},
   "outputs": [],
   "source": [
    "X, Y, Z = np.meshgrid(x,y,z)"
   ]
  },
  {
   "cell_type": "code",
   "execution_count": null,
   "metadata": {},
   "outputs": [],
   "source": []
  }
 ],
 "metadata": {
  "kernelspec": {
   "display_name": "Python 3",
   "language": "python",
   "name": "python3"
  },
  "language_info": {
   "codemirror_mode": {
    "name": "ipython",
    "version": 3
   },
   "file_extension": ".py",
   "mimetype": "text/x-python",
   "name": "python",
   "nbconvert_exporter": "python",
   "pygments_lexer": "ipython3",
   "version": "3.7.3"
  }
 },
 "nbformat": 4,
 "nbformat_minor": 2
}
