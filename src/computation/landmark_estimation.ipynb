{
 "cells": [
  {
   "cell_type": "code",
   "execution_count": 2,
   "metadata": {},
   "outputs": [],
   "source": [
    "from open3d import *\n",
    "import numpy as np\n",
    "import os\n",
    "import sys\n",
    "import random\n",
    "import math\n",
    "import glob\n",
    "import matplotlib.pyplot as plt\n",
    "import scipy.interpolate as si\n",
    "from ipywidgets import FloatProgress\n",
    "from IPython.display import display\n",
    "import splipy as sp"
   ]
  },
  {
   "cell_type": "code",
   "execution_count": 3,
   "metadata": {},
   "outputs": [],
   "source": [
    "def read_mesh(meshdir):\n",
    "    if os.path.isfile(meshdir):\n",
    "        print('Mesh File successfully loaded')\n",
    "        mesh = read_triangle_mesh(meshdir)\n",
    "        print('Vertices: '+str(len(np.asarray(mesh.vertices))))\n",
    "        print('Triangles: '+str(len(np.asarray(mesh.triangles))))\n",
    "        return mesh\n",
    "    else:\n",
    "        print('File Directory does not exist')\n",
    "\n",
    "def read_pcd(filedir):\n",
    "    if os.path.isfile(filedir):\n",
    "        print('Point Cloud File successfully loaded')\n",
    "        return read_point_cloud(filedir)\n",
    "    else:\n",
    "        print('File Directory does not exist')\n",
    "\n",
    "def write_pcd(pcd, filedir):\n",
    "    if not os.path.isfile(filedir):\n",
    "        print('Point Cloud File successfully created')\n",
    "        write_point_cloud(filedir, pcd)\n",
    "    else:\n",
    "        print('File Directory already exists')\n",
    "        \n",
    "def create_pcd(pts):\n",
    "    pcd = PointCloud()\n",
    "    pcd.points = Vector3dVector(pts)\n",
    "    return pcd\n",
    "\n",
    "def rotate_pcd(pcd, theta):\n",
    "    points = np.asarray(pcd.points)\n",
    "    r_x = np.array([[1,0,0],[0,math.cos(theta[0]),-math.sin(theta[0])],[0,math.sin(theta[0]),math.cos(theta[0])]])\n",
    "    r_y = np.array([[math.cos(theta[1]),0,math.sin(theta[1])],[0,1,0],[-math.sin(theta[1]),0,math.cos(theta[1])]])\n",
    "    r_z = np.array([[math.cos(theta[2]),-math.sin(theta[2]),0],[math.sin(theta[2]),math.cos(theta[2]),0],[0,0,1]])   \n",
    "    r = np.dot(r_z, np.dot(r_y,r_x))\n",
    "    points = np.matmul(points, r)\n",
    "    pcd.points = Vector3dVector(points)\n",
    "    return pcd\n",
    "\n",
    "def pcd_processing(pcd, angle):\n",
    "    angle = math.radians(angle)\n",
    "    points = np.asarray(pcd.points)\n",
    "    x = points[:,0]\n",
    "    y = points[:,2] + abs(points[:,2].min())\n",
    "    z = points[:,1]\n",
    "    pcd = create_pcd(np.array([x, y, z]).transpose())\n",
    "    return rotate_pcd(pcd, [0,angle,0])"
   ]
  },
  {
   "cell_type": "code",
   "execution_count": 4,
   "metadata": {},
   "outputs": [],
   "source": [
    "def closest_distance(points, max_neighbors):\n",
    "    distances = []\n",
    "    tree = KDTreeFlann(create_pcd(points))\n",
    "    search_radius = abs(points[:,0].max() - points[:,0].min())\n",
    "    for point in points:\n",
    "        neighbors = list(tree.search_hybrid_vector_3d(point, radius=search_radius, max_nn=max_neighbors+1)[2])[1:]\n",
    "        for neighbor in neighbors:\n",
    "            distances.append(np.sqrt(neighbor))\n",
    "    return max(distances)"
   ]
  },
  {
   "cell_type": "code",
   "execution_count": 5,
   "metadata": {},
   "outputs": [],
   "source": [
    "def intersection(p1, p2, y):\n",
    "    x1, y1, z1 = p1\n",
    "    x2, y2, z2 = p2\n",
    "    new_x = ((y - y1)*(x2 - x1)/(y2 - y1)) + x1\n",
    "    new_z = ((y - y1)*(z2 - z1)/(y2 - y1)) + z1\n",
    "    return np.array([new_x, y, new_z])\n",
    "\n",
    "def get_midpoints(mesh):\n",
    "    triangles = np.asarray(mesh.triangles)\n",
    "    vertices = np.asarray(mesh.vertices)[:,1]\n",
    "    midpoints = np.zeros((len(triangles),2))\n",
    "    distances = []\n",
    "    for idx in range(len(triangles)):\n",
    "        triangle = triangles[idx]\n",
    "        current_vertices = sorted([vertices[triangle[0]], vertices[triangle[1]], vertices[triangle[2]]])\n",
    "        midpoint = (current_vertices[2]+current_vertices[0])/2\n",
    "        midpoints[idx] = np.array([idx,midpoint])\n",
    "        distances.append(midpoint - current_vertices[0])\n",
    "    max_distance = np.max(distances)\n",
    "    return max_distance, midpoints\n",
    "\n",
    "def mesh_slicing(mesh, density=4, num_sections=1):\n",
    "    triangles = np.asarray(mesh.triangles)\n",
    "    vertices = np.asarray(mesh.vertices)\n",
    "    max_distance, midpoints = get_midpoints(mesh)\n",
    "    \n",
    "    tolerance = max_distance\n",
    "    increment = tolerance/density\n",
    "    min_y = midpoints[:,1].min()\n",
    "    max_y = midpoints[:,1].max()\n",
    "    current_y = min_y\n",
    "\n",
    "    sections = []\n",
    "    for i in range(num_sections):\n",
    "        p1 = i*(100/num_sections)\n",
    "        p2 = (i+1)*(100/num_sections)\n",
    "        q1 = np.percentile(midpoints[:,1],p1)\n",
    "        q2 = np.percentile(midpoints[:,1],p2)\n",
    "        current_section = midpoints[midpoints[:,1] >= q1 - (tolerance+increment)]\n",
    "        current_section = current_section[current_section[:,1] <= q2 + (tolerance+increment)]\n",
    "        sections.append([q2,current_section])\n",
    "    \n",
    "    slices = []\n",
    "    points = np.array([0,0,0])\n",
    "    print('|Slicing Mesh|\\n')\n",
    "    print(f'Tolerance: {tolerance}')\n",
    "    \n",
    "    f = FloatProgress(min=min_y, max=max_y)\n",
    "    display(f)\n",
    "    \n",
    "    for section in sections:\n",
    "        current_max = section[0]\n",
    "        current_midpoints = section[1]\n",
    "        while current_y <= current_max:\n",
    "            current_midpoints = current_midpoints[current_midpoints[:,1] >= current_y - tolerance]\n",
    "            current_interval = current_midpoints[current_midpoints[:,1] <= current_y + tolerance]\n",
    "            current_slice = np.array([0,0,0])\n",
    "            for midpoint in current_interval:\n",
    "                triangle = triangles[int(midpoint[0])]\n",
    "                triangle_points = np.array([vertices[triangle[0]], vertices[triangle[1]], vertices[triangle[2]]])\n",
    "                pts_above = triangle_points[triangle_points[:,1] > current_y]\n",
    "                pts_below = triangle_points[triangle_points[:,1] < current_y]\n",
    "                pts_intersect = triangle_points[triangle_points[:,1] == current_y]\n",
    "                if len(pts_above) > 0 and len(pts_below) > 0:\n",
    "                    for pt_below in pts_below:\n",
    "                        for pt_above in pts_above:\n",
    "                            current_slice = np.vstack((current_slice,intersection(pt_below,pt_above,current_y)))\n",
    "                for pt_intersect in pts_intersect:\n",
    "                    current_slice = np.vstack((current_slice,pt_intersect))\n",
    "            if len(current_slice.shape) == 2:\n",
    "                current_slice = np.unique(current_slice[1:],axis=0)\n",
    "                slices.append(current_slice)\n",
    "                points = np.vstack((points,current_slice))\n",
    "            current_y += increment\n",
    "            f.value = current_y\n",
    "    f.value = max_y\n",
    "    points = points[1:]\n",
    "    print('|Finished Slicing Mesh|\\n')\n",
    "    print(f'Number of Slices: {len(slices)}')\n",
    "    print(f'Number of Points: {len(points)}\\n')\n",
    "    return points, slices"
   ]
  },
  {
   "cell_type": "code",
   "execution_count": 6,
   "metadata": {},
   "outputs": [
    {
     "name": "stdout",
     "output_type": "stream",
     "text": [
      "Mesh File successfully loaded\n",
      "Vertices: 75002\n",
      "Triangles: 150000\n"
     ]
    }
   ],
   "source": [
    "filedir = '/Users/nickf/Desktop/Custom-Fit/Data/Subject Meshes/nf0_100.ply'\n",
    "mesh = read_mesh(filedir)"
   ]
  },
  {
   "cell_type": "code",
   "execution_count": 121,
   "metadata": {},
   "outputs": [
    {
     "name": "stdout",
     "output_type": "stream",
     "text": [
      "|Slicing Mesh|\n",
      "\n",
      "Tolerance: 8.803703703703718\n"
     ]
    },
    {
     "data": {
      "application/vnd.jupyter.widget-view+json": {
       "model_id": "daee7141db8b417081ed57b0b1731022",
       "version_major": 2,
       "version_minor": 0
      },
      "text/plain": [
       "FloatProgress(value=0.03548387096774193, max=1786.1055555555554, min=0.03548387096774193)"
      ]
     },
     "metadata": {},
     "output_type": "display_data"
    },
    {
     "name": "stdout",
     "output_type": "stream",
     "text": [
      "|Finished Slicing Mesh|\n",
      "\n",
      "Number of Slices: 1624\n",
      "Number of Points: 690580\n",
      "\n",
      "|Refining Slices|\n",
      "\n",
      "Finding Slice Cutoffs\n"
     ]
    },
    {
     "data": {
      "application/vnd.jupyter.widget-view+json": {
       "model_id": "6d8d959db45743a4a08e6003bf1be610",
       "version_major": 2,
       "version_minor": 0
      },
      "text/plain": [
       "FloatProgress(value=0.0, max=1623.0)"
      ]
     },
     "metadata": {},
     "output_type": "display_data"
    },
    {
     "name": "stdout",
     "output_type": "stream",
     "text": [
      "Cutting Slices\n"
     ]
    },
    {
     "data": {
      "application/vnd.jupyter.widget-view+json": {
       "model_id": "1af263765b1648258fe8ec08bfb7a4ba",
       "version_major": 2,
       "version_minor": 0
      },
      "text/plain": [
       "FloatProgress(value=665.0, max=1623.0, min=665.0)"
      ]
     },
     "metadata": {},
     "output_type": "display_data"
    },
    {
     "name": "stdout",
     "output_type": "stream",
     "text": [
      "\n",
      "|Finished Refining Slices|\n",
      "\n",
      "Number of Slices: 959\n",
      "Number of Points: 365142\n"
     ]
    },
    {
     "data": {
      "image/png": "[encoded data removed]",
      "text/plain": [
       "<Figure size 432x288 with 1 Axes>"
      ]
     },
     "metadata": {
      "needs_background": "light"
     },
     "output_type": "display_data"
    }
   ],
   "source": [
    "points, slices = mesh_slicing(mesh, density=8)"
   ]
  },
  {
   "cell_type": "code",
   "execution_count": 147,
   "metadata": {},
   "outputs": [],
   "source": [
    "draw_geometries([create_pcd(points)])\n",
    "#draw_geometries([create_pcd(slices[78])])"
   ]
  },
  {
   "cell_type": "code",
   "execution_count": null,
   "metadata": {},
   "outputs": [],
   "source": [
    "filedir = '/Users/nickf/Desktop/Custom-Fit/Data/Subject Meshes/nf4_2RefinedSlicePCD.ply'\n",
    "#write_pcd(create_pcd(all_points), filedir)\n",
    "write_pcd(create_pcd(new_points), filedir)"
   ]
  },
  {
   "cell_type": "code",
   "execution_count": 111,
   "metadata": {},
   "outputs": [
    {
     "name": "stdout",
     "output_type": "stream",
     "text": [
      "Point Cloud File successfully loaded\n"
     ]
    }
   ],
   "source": [
    "draw_geometries([read_pcd('/Users/nickf/Desktop/Custom-Fit/Data/Subject Meshes/nf_1Spline.ply')])"
   ]
  },
  {
   "cell_type": "code",
   "execution_count": 66,
   "metadata": {},
   "outputs": [],
   "source": [
    "def control_points(points):\n",
    "    z_mean = points[:,2].mean()\n",
    "    pts_posz = points[points[:,2] >= z_mean]\n",
    "    pts_negz = points[points[:,2] < z_mean]\n",
    "    pts_posz = pts_posz[pts_posz[:,0].argsort()]\n",
    "    pts_negz = pts_negz[(-pts_negz[:,0]).argsort()]\n",
    "    pts = np.vstack((pts_posz,pts_negz))\n",
    "    return np.array([pts[:,0],pts[:,2]]).transpose()\n",
    "\n",
    "def bspline(slices, n=1000, degrees=[100]):\n",
    "    spline_slices = []\n",
    "    spline_points = np.array([0,0,0])\n",
    "    periodic=True\n",
    "    for current_slice in slices:\n",
    "        cp = control_points(current_slice)\n",
    "        count = cp.shape[0]\n",
    "        for degree in degrees:\n",
    "            kv = np.arange(-degree,count+degree+1)\n",
    "            factor, fraction = divmod(count+degree+1, count)\n",
    "            cp = np.roll(np.concatenate((cp,) * factor + (cp[:fraction],)),-1,axis=0)\n",
    "            degree = np.clip(degree,1,degree)\n",
    "            max_param = count - (degree * (1-periodic))\n",
    "            spl = si.BSpline(kv, cp, degree)\n",
    "\n",
    "            points = spl(np.linspace(0,max_param,n))\n",
    "            current_y = np.array([current_slice[0,1] for _ in range(n)])\n",
    "            points = np.array([points[:,0],current_y,points[:,1]]).transpose()\n",
    "            spline_slices.append(points)\n",
    "            spline_points = np.vstack((spline_points, points))\n",
    "    return spline_points[1:], spline_slices"
   ]
  },
  {
   "cell_type": "code",
   "execution_count": 141,
   "metadata": {},
   "outputs": [],
   "source": [
    "spline_points, spline_slices = bspline(slices[710:750], n=1000, degrees=[3000])\n",
    "#spline_points, spline_slices = bspline(spline_slices, n=500, degrees=[1000])"
   ]
  },
  {
   "cell_type": "code",
   "execution_count": 142,
   "metadata": {},
   "outputs": [],
   "source": [
    "draw_geometries([create_pcd(spline_points)])"
   ]
  },
  {
   "cell_type": "code",
   "execution_count": 128,
   "metadata": {},
   "outputs": [],
   "source": [
    "start = 710\n",
    "end = 750\n",
    "spoints = np.array([0,0,0])\n",
    "for i in range(start,end+1):\n",
    "    spoints = np.vstack((spoints,slices[i]))\n",
    "spoints = spoints[1:]\n",
    "draw_geometries([create_pcd(spoints)])"
   ]
  }
 ],
 "metadata": {
  "kernelspec": {
   "display_name": "Python 3",
   "language": "python",
   "name": "python3"
  },
  "language_info": {
   "codemirror_mode": {
    "name": "ipython",
    "version": 3
   },
   "file_extension": ".py",
   "mimetype": "text/x-python",
   "name": "python",
   "nbconvert_exporter": "python",
   "pygments_lexer": "ipython3",
   "version": "3.7.3"
  }
 },
 "nbformat": 4,
 "nbformat_minor": 2
}
