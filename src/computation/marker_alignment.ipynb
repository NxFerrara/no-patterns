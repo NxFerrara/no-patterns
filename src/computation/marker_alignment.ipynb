{
 "cells": [
  {
   "cell_type": "code",
   "execution_count": 54,
   "metadata": {},
   "outputs": [],
   "source": [
    "from open3d import utility\n",
    "from open3d import geometry\n",
    "from open3d import io\n",
    "from open3d import visualization\n",
    "from open3d import registration\n",
    "import numpy as np\n",
    "import copy\n",
    "import time\n",
    "import os\n",
    "import math\n",
    "import glob\n",
    "import random\n",
    "from ipywidgets import FloatProgress\n",
    "from IPython.display import display"
   ]
  },
  {
   "cell_type": "code",
   "execution_count": 55,
   "metadata": {},
   "outputs": [],
   "source": [
    "def read_mesh(filedir):\n",
    "    assert os.path.exists(filedir), 'File Directory does not exist'\n",
    "    assert filedir.endswith('.ply'), 'Mesh File must be OBJ or PLY'\n",
    "    print('PLY Mesh File Loaded')\n",
    "    mesh = io.read_triangle_mesh(filedir)\n",
    "    return mesh\n",
    "\n",
    "def read_pcd(filedir):\n",
    "    assert os.path.exists(filedir), 'File Directory does not exist'\n",
    "    assert filedir.endswith('.ply'), 'Mesh File must be OBJ or PLY'\n",
    "    print('PLY File Loaded')\n",
    "    pcd = io.read_point_cloud(filedir)\n",
    "    return pcd\n",
    "\n",
    "def create_mesh_line_set(mesh, color=[1,0,0]):\n",
    "    line_set = geometry.create_line_set_from_triangle_mesh(mesh)\n",
    "    colors = [color for _ in range(len(line_set.lines))]\n",
    "    line_set.colors = utility.Vector3dVector(colors)\n",
    "    return line_set\n",
    "\n",
    "def create_mesh_pcd(mesh):\n",
    "    pcd = geometry.PointCloud()\n",
    "    pcd.points = utility.Vector3dVector(mesh.vertices)\n",
    "    mesh.compute_vertex_normals()\n",
    "    pcd.normals = utility.Vector3dVector(mesh.vertex_normals)\n",
    "    return pcd\n",
    "\n",
    "def create_pcd(points):\n",
    "    pcd = geometry.PointCloud()\n",
    "    pcd.points = utility.Vector3dVector(np.asarray(points))\n",
    "    geometry.estimate_normals(pcd, search_param=geometry.KDTreeSearchParamKNN(10))\n",
    "    return pcd"
   ]
  },
  {
   "cell_type": "code",
   "execution_count": 56,
   "metadata": {},
   "outputs": [],
   "source": [
    "def extract_pom(base_mesh, pomdir, transformation, radius=5.0, line_set=False):\n",
    "    pom_mesh = read_mesh(pomdir)\n",
    "    pom_mesh.transform(transformation)\n",
    "    halfmesh = geometry.create_half_edge_mesh_from_mesh(pom_mesh)\n",
    "    mesh_vertices = np.asarray(halfmesh.vertices)\n",
    "    edge_vertices = set()\n",
    "    for edge in halfmesh.half_edges:\n",
    "        if edge.twin == -1:\n",
    "            edge_vertices.update(set(edge.vertex_indices))\n",
    "            \n",
    "    open_vertices = []\n",
    "    for _, idx in enumerate(edge_vertices):\n",
    "        open_vertices.append(mesh_vertices[idx])\n",
    "\n",
    "    tree = geometry.KDTreeFlann(create_mesh_pcd(base_mesh))\n",
    "    base_vertices = np.asarray(base_mesh.vertices)\n",
    "    closest_vertices = []\n",
    "    for vertex in open_vertices:\n",
    "        [_, idx, _] = tree.search_knn_vector_3d(vertex, 1)\n",
    "        closest_vertices.append(base_vertices[np.asarray(idx)[0]])\n",
    "\n",
    "    mean_point = np.asarray(closest_vertices).mean(axis=0)\n",
    "    [_, idx, _] = tree.search_knn_vector_3d(mean_point, 1)\n",
    "    shoulder_point = base_vertices[np.asarray(idx)[0]]\n",
    "    closest_vertices.append(shoulder_point)\n",
    "    pom_marker = geometry.create_mesh_sphere(radius=radius)\n",
    "    pom_marker.compute_vertex_normals()\n",
    "    pom_marker.paint_uniform_color([0.1, 0.5, 1])\n",
    "    pom_marker.vertices = utility.Vector3dVector(np.asarray(pom_marker.vertices) + \n",
    "                                                 shoulder_point)\n",
    "    pcd_closest = create_pcd(closest_vertices)\n",
    "    pcd_edge = create_pcd(open_vertices)\n",
    "    if line_set:\n",
    "        pom_line_set = geometry.create_line_set_from_triangle_mesh(pom_mesh)\n",
    "        return [pom_line_set, pcd_closest, pcd_edge, pom_marker]\n",
    "    return [pom_mesh, pcd_closest, pcd_edge, pom_marker]"
   ]
  },
  {
   "cell_type": "code",
   "execution_count": 57,
   "metadata": {},
   "outputs": [],
   "source": [
    "def draw_registration_result(source, target, transformation):\n",
    "    source_temp = copy.deepcopy(source)\n",
    "    target_temp = copy.deepcopy(target)\n",
    "    source_temp.paint_uniform_color([1, 0.706, 0])\n",
    "    target_temp.paint_uniform_color([0, 0.651, 0.929])\n",
    "    source_temp.transform(transformation)\n",
    "    visualization.draw_geometries([source_temp, target_temp])\n",
    "    \n",
    "def align_mesh(meshdir, markermeshdir, max_correspondence=100, max_iter=10000):\n",
    "    source_mesh = read_mesh(markermeshdir)\n",
    "    target_mesh = read_mesh(meshdir)\n",
    "    source = create_mesh_pcd(source_mesh)\n",
    "    target = create_mesh_pcd(target_mesh)\n",
    "    result = registration.registration_icp(\n",
    "        source, target,\n",
    "        max_correspondence_distance=max_correspondence,\n",
    "        estimation_method=registration.TransformationEstimationPointToPlane(),\n",
    "        criteria=registration.ICPConvergenceCriteria(max_iteration=max_iter))\n",
    "    print(f'Fitness: {result.fitness}')\n",
    "    print(f'Inlier RMSE: {result.inlier_rmse}')\n",
    "    return target_mesh, source_mesh.transform(result.transformation), result.transformation"
   ]
  },
  {
   "cell_type": "code",
   "execution_count": 14,
   "metadata": {},
   "outputs": [
    {
     "name": "stdout",
     "output_type": "stream",
     "text": [
      "PLY Mesh File Loaded\n",
      "PLY Mesh File Loaded\n",
      "Fitness: 1.0\n",
      "Inlier RMSE: 8.632307212722644\n"
     ]
    }
   ],
   "source": [
    "folderdir = '/Users/nickf/Dropbox/Nicky T-Shirt Project/Subject Scans/Male Scans/Nicholas Ferrara/NF_SCAN_V2/'\n",
    "meshdir = f'{folderdir}NF_V2_M2.ply'\n",
    "markermeshdir = f'{folderdir}NFMARKERS_V2_M2.ply'\n",
    "base_mesh, aligned_marker, transformation = align_mesh(meshdir, markermeshdir,\n",
    "                                                       max_correspondence=1000,\n",
    "                                                       max_iter=100)"
   ]
  },
  {
   "cell_type": "code",
   "execution_count": 15,
   "metadata": {},
   "outputs": [],
   "source": [
    "visualization.draw_geometries([geometry.create_line_set_from_triangle_mesh(base_mesh), \n",
    "                               aligned_marker])"
   ]
  },
  {
   "cell_type": "code",
   "execution_count": 16,
   "metadata": {},
   "outputs": [
    {
     "name": "stdout",
     "output_type": "stream",
     "text": [
      "PLY Mesh File Loaded\n",
      "PLY Mesh File Loaded\n"
     ]
    }
   ],
   "source": [
    "pom_geometries = []\n",
    "pom_markers = []\n",
    "pomdir = f'{folderdir}NF_V2_M2_ShoulderLeft.ply'\n",
    "shoulderLeft  = extract_pom(base_mesh, pomdir, transformation, radius=15.0, line_set=True)\n",
    "pom_geometries.extend(shoulderLeft)\n",
    "pom_markers.append(shoulderLeft[-1])\n",
    "pomdir = f'{folderdir}NF_V2_M2_ShoulderRight.ply'\n",
    "shoulderRight = extract_pom(base_mesh, pomdir, transformation, radius=15.0, line_set=True)\n",
    "pom_geometries.extend(shoulderRight)\n",
    "pom_markers.append(shoulderRight[-1])"
   ]
  },
  {
   "cell_type": "code",
   "execution_count": 17,
   "metadata": {},
   "outputs": [],
   "source": [
    "geometries = [base_mesh]\n",
    "geometries.extend(pom_geometries)\n",
    "geometries.extend(pom_markers)\n",
    "visualization.draw_geometries(geometries)"
   ]
  }
 ],
 "metadata": {
  "kernelspec": {
   "display_name": "Python 3",
   "language": "python",
   "name": "python3"
  },
  "language_info": {
   "codemirror_mode": {
    "name": "ipython",
    "version": 3
   },
   "file_extension": ".py",
   "mimetype": "text/x-python",
   "name": "python",
   "nbconvert_exporter": "python",
   "pygments_lexer": "ipython3",
   "version": "3.7.3"
  }
 },
 "nbformat": 4,
 "nbformat_minor": 2
}
