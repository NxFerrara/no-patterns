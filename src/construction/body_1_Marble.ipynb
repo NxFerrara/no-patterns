{
 "cells": [
  {
   "cell_type": "code",
   "execution_count": 1,
   "metadata": {},
   "outputs": [],
   "source": [
    "from open3d import geometry\n",
    "from open3d import utility\n",
    "from open3d import io\n",
    "from open3d import visualization\n",
    "from PyGEL3D import gel\n",
    "import numpy as np\n",
    "from ipywidgets import FloatProgress\n",
    "from IPython.display import display\n",
    "import os\n",
    "import glob"
   ]
  },
  {
   "cell_type": "code",
   "execution_count": 2,
   "metadata": {},
   "outputs": [],
   "source": [
    "def create_mesh_line_set(mesh, color=[1,0,0]):\n",
    "    line_set = geometry.create_line_set_from_triangle_mesh(mesh)\n",
    "    colors = [color for _ in range(len(line_set.lines))]\n",
    "    line_set.colors = utility.Vector3dVector(colors)\n",
    "    return line_set\n",
    "\n",
    "def load_meshes(folderdir, filename):\n",
    "    filedirs = glob.glob(f'{folderdir}*.ply')\n",
    "    meshes = []\n",
    "    for fdir in filedirs:\n",
    "        if filename == fdir[:-5]:\n",
    "            meshes.append(read_mesh(fdir))\n",
    "    return meshes\n",
    "\n",
    "def read_mesh(filedir):\n",
    "    assert os.path.exists(filedir), 'File Directory does not exist'\n",
    "    assert filedir.endswith('.ply'), 'Mesh File must be OBJ or PLY'\n",
    "    print('PLY Mesh File Loaded')\n",
    "    mesh = io.read_triangle_mesh(filedir)\n",
    "    return mesh\n",
    "\n",
    "def gelread_mesh(filedir):\n",
    "    assert os.path.exists(filedir), 'File Directory does not exist'\n",
    "    assert filedir.endswith('.ply') or filedir.endswith('.obj'), 'Mesh File must be OBJ or PLY'\n",
    "    if filedir.endswith('.ply'):\n",
    "        print('PLY Mesh File Loaded')\n",
    "        mesh = gel.ply_load(filedir)\n",
    "    elif filedir.endswith('.obj'):\n",
    "        print('OBJ Mesh File Loaded')\n",
    "        mesh = gel.obj_load(filedir)\n",
    "    return mesh\n",
    "\n",
    "def write_mesh(filedir, mesh):\n",
    "    assert not os.path.exists(filedir), 'File Directory already exists'\n",
    "    assert filedir.endswith('.ply') or filedir.endswith('.obj'), 'Mesh File must be OBJ or PLY'\n",
    "    io.write_triangle_mesh(filedir, mesh)\n",
    "    print('Mesh successfully written')\n",
    "\n",
    "def get_centroids(mesh):\n",
    "    faces = np.asarray(mesh.faces())\n",
    "    centroids = np.zeros((len(faces),3))\n",
    "    for face in faces:\n",
    "        centroids[face] = np.array(mesh.centre(face))\n",
    "    return centroids\n",
    "\n",
    "def get_polygons(mesh):\n",
    "    vertices = np.asarray(mesh.vertices())\n",
    "    polygons = []\n",
    "    for vertex in vertices:\n",
    "        polygons.append(list(mesh.circulate_vertex(vertex, mode='f')))\n",
    "    return polygons\n",
    "\n",
    "def polygon_triangles(mesh):\n",
    "    triangles = []\n",
    "    vertices = get_centroids(mesh)\n",
    "    polygons = get_polygons(mesh)\n",
    "    f = FloatProgress(min=0, max=len(polygons)-1)\n",
    "    display(f)\n",
    "    count = 0\n",
    "    for polygon in polygons:\n",
    "        center = np.array([0.0,0.0,0.0])\n",
    "        for idx in polygon:\n",
    "            center += vertices[idx]\n",
    "        center /= len(polygon)\n",
    "        center_idx = len(vertices)\n",
    "        vertices = np.append(vertices, [center], axis=0)\n",
    "        triangles.append([center_idx, polygon[-1], polygon[0]])\n",
    "        for idx in range(0, len(polygon)-1):\n",
    "            triangles.append([center_idx, polygon[idx], polygon[idx + 1]])\n",
    "        count += 1\n",
    "        if count%int(len(polygons)/1000) == 0:\n",
    "            f.value = count\n",
    "    return vertices, np.asarray(triangles)\n",
    "\n",
    "def generate_marble(filedir, marbledir, write=True):\n",
    "    assert not os.path.exists(marbledir), 'Output File Directory already exists'\n",
    "    assert marbledir.endswith('.ply') or marbledir.endswith('.obj'), 'Mesh File must be OBJ or PLY'\n",
    "    mesh = gelread_mesh(filedir)\n",
    "\n",
    "    print('Generating Marble Mesh')\n",
    "    vertices, triangles = polygon_triangles(mesh)\n",
    "    marble_mesh = geometry.TriangleMesh()\n",
    "    marble_mesh.vertices = utility.Vector3dVector(vertices)\n",
    "    marble_mesh.triangles = utility.Vector3iVector(triangles)\n",
    "    marble_mesh.compute_triangle_normals()\n",
    "    marble_mesh.compute_vertex_normals()\n",
    "    print('Marble Mesh Complete')\n",
    "    if write:\n",
    "        write_mesh(marbledir, marble_mesh)\n",
    "    return marble_mesh"
   ]
  },
  {
   "cell_type": "code",
   "execution_count": 3,
   "metadata": {},
   "outputs": [
    {
     "ename": "AssertionError",
     "evalue": "Output File Directory already exists",
     "output_type": "error",
     "traceback": [
      "\u001b[0;31m---------------------------------------------------------------------------\u001b[0m",
      "\u001b[0;31mAssertionError\u001b[0m                            Traceback (most recent call last)",
      "\u001b[0;32m<ipython-input-3-089299c32321>\u001b[0m in \u001b[0;36m<module>\u001b[0;34m\u001b[0m\n\u001b[1;32m      3\u001b[0m \u001b[0;32mfor\u001b[0m \u001b[0mfiledir\u001b[0m \u001b[0;32min\u001b[0m \u001b[0mfiledirs\u001b[0m\u001b[0;34m:\u001b[0m\u001b[0;34m\u001b[0m\u001b[0;34m\u001b[0m\u001b[0m\n\u001b[1;32m      4\u001b[0m     \u001b[0mmarbledir\u001b[0m \u001b[0;34m=\u001b[0m \u001b[0;34mf'{filedir[:-5]}2.ply'\u001b[0m\u001b[0;34m\u001b[0m\u001b[0;34m\u001b[0m\u001b[0m\n\u001b[0;32m----> 5\u001b[0;31m     \u001b[0mmesh\u001b[0m \u001b[0;34m=\u001b[0m \u001b[0mgenerate_marble\u001b[0m\u001b[0;34m(\u001b[0m\u001b[0mfiledir\u001b[0m\u001b[0;34m,\u001b[0m \u001b[0mmarbledir\u001b[0m\u001b[0;34m,\u001b[0m \u001b[0mwrite\u001b[0m\u001b[0;34m=\u001b[0m\u001b[0;32mTrue\u001b[0m\u001b[0;34m)\u001b[0m\u001b[0;34m\u001b[0m\u001b[0;34m\u001b[0m\u001b[0m\n\u001b[0m\u001b[1;32m      6\u001b[0m \u001b[0;31m#filedir = f'{folderdir}NFMarkers_V2_M1.ply'\u001b[0m\u001b[0;34m\u001b[0m\u001b[0;34m\u001b[0m\u001b[0;34m\u001b[0m\u001b[0m\n\u001b[1;32m      7\u001b[0m \u001b[0;31m#marbledir = f'{folderdir}NFMarkers_V2_M2.ply'\u001b[0m\u001b[0;34m\u001b[0m\u001b[0;34m\u001b[0m\u001b[0;34m\u001b[0m\u001b[0m\n",
      "\u001b[0;32m<ipython-input-2-bed84ea5a417>\u001b[0m in \u001b[0;36mgenerate_marble\u001b[0;34m(filedir, marbledir, write)\u001b[0m\n\u001b[1;32m     74\u001b[0m \u001b[0;34m\u001b[0m\u001b[0m\n\u001b[1;32m     75\u001b[0m \u001b[0;32mdef\u001b[0m \u001b[0mgenerate_marble\u001b[0m\u001b[0;34m(\u001b[0m\u001b[0mfiledir\u001b[0m\u001b[0;34m,\u001b[0m \u001b[0mmarbledir\u001b[0m\u001b[0;34m,\u001b[0m \u001b[0mwrite\u001b[0m\u001b[0;34m=\u001b[0m\u001b[0;32mTrue\u001b[0m\u001b[0;34m)\u001b[0m\u001b[0;34m:\u001b[0m\u001b[0;34m\u001b[0m\u001b[0;34m\u001b[0m\u001b[0m\n\u001b[0;32m---> 76\u001b[0;31m     \u001b[0;32massert\u001b[0m \u001b[0;32mnot\u001b[0m \u001b[0mos\u001b[0m\u001b[0;34m.\u001b[0m\u001b[0mpath\u001b[0m\u001b[0;34m.\u001b[0m\u001b[0mexists\u001b[0m\u001b[0;34m(\u001b[0m\u001b[0mmarbledir\u001b[0m\u001b[0;34m)\u001b[0m\u001b[0;34m,\u001b[0m \u001b[0;34m'Output File Directory already exists'\u001b[0m\u001b[0;34m\u001b[0m\u001b[0;34m\u001b[0m\u001b[0m\n\u001b[0m\u001b[1;32m     77\u001b[0m     \u001b[0;32massert\u001b[0m \u001b[0mmarbledir\u001b[0m\u001b[0;34m.\u001b[0m\u001b[0mendswith\u001b[0m\u001b[0;34m(\u001b[0m\u001b[0;34m'.ply'\u001b[0m\u001b[0;34m)\u001b[0m \u001b[0;32mor\u001b[0m \u001b[0mmarbledir\u001b[0m\u001b[0;34m.\u001b[0m\u001b[0mendswith\u001b[0m\u001b[0;34m(\u001b[0m\u001b[0;34m'.obj'\u001b[0m\u001b[0;34m)\u001b[0m\u001b[0;34m,\u001b[0m \u001b[0;34m'Mesh File must be OBJ or PLY'\u001b[0m\u001b[0;34m\u001b[0m\u001b[0;34m\u001b[0m\u001b[0m\n\u001b[1;32m     78\u001b[0m     \u001b[0mmesh\u001b[0m \u001b[0;34m=\u001b[0m \u001b[0mgelread_mesh\u001b[0m\u001b[0;34m(\u001b[0m\u001b[0mfiledir\u001b[0m\u001b[0;34m)\u001b[0m\u001b[0;34m\u001b[0m\u001b[0;34m\u001b[0m\u001b[0m\n",
      "\u001b[0;31mAssertionError\u001b[0m: Output File Directory already exists"
     ]
    }
   ],
   "source": [
    "folderdir = '/Users/nickf/Dropbox/Nicky T-Shirt Project/Subject Scans/Male Scans/Nicholas Ferrara/NF_SCAN_V3/'\n",
    "filedirs = glob.glob(f'{folderdir}*_M1.ply')\n",
    "for filedir in filedirs:\n",
    "    marbledir = f'{filedir[:-5]}2.ply'\n",
    "    mesh = generate_marble(filedir, marbledir, write=True)\n",
    "#filedir = f'{folderdir}NFMarkers_V2_M1.ply'\n",
    "#marbledir = f'{folderdir}NFMarkers_V2_M2.ply'\n",
    "#mesh = generate_marble(filedir, marbledir, write=True)"
   ]
  },
  {
   "cell_type": "code",
   "execution_count": 13,
   "metadata": {},
   "outputs": [
    {
     "name": "stdout",
     "output_type": "stream",
     "text": [
      "PLY Mesh File Loaded\n",
      "Generating Marble Mesh\n"
     ]
    },
    {
     "data": {
      "application/vnd.jupyter.widget-view+json": {
       "model_id": "8fd0352435df4c79887463d2ff12d61d",
       "version_major": 2,
       "version_minor": 0
      },
      "text/plain": [
       "FloatProgress(value=0.0, max=388693.0)"
      ]
     },
     "metadata": {},
     "output_type": "display_data"
    },
    {
     "name": "stdout",
     "output_type": "stream",
     "text": [
      "Marble Mesh Complete\n",
      "Mesh successfully written\n"
     ]
    }
   ],
   "source": [
    "mesh = generate_marble(\"/Users/nickf/Desktop/Face_Scan_1_Marble_3.ply\", \"/Users/nickf/Desktop/Face_Scan_1_Marble_4.ply\", write=True)"
   ]
  },
  {
   "cell_type": "code",
   "execution_count": 14,
   "metadata": {},
   "outputs": [],
   "source": [
    "visualization.draw_geometries([mesh])"
   ]
  },
  {
   "cell_type": "code",
   "execution_count": 19,
   "metadata": {},
   "outputs": [
    {
     "name": "stdout",
     "output_type": "stream",
     "text": [
      "PLY Mesh File Loaded\n",
      "PLY Mesh File Loaded\n",
      "PLY Mesh File Loaded\n",
      "PLY Mesh File Loaded\n"
     ]
    }
   ],
   "source": [
    "folderdir = '/Users/nickf/Desktop/Custom-Fit/Data/Subject Meshes/'\n",
    "filenames = [f'{folderdir}nf0_100.ply', f'{folderdir}nf0_200.ply', f'{folderdir}nf0_300.ply', f'{folderdir}nf0_400.ply']\n",
    "#meshes = load_meshes(folderdir, filename)\n",
    "geometries = []\n",
    "for i, file in enumerate(filenames):\n",
    "    mesh = read_mesh(file)\n",
    "    mesh.compute_vertex_normals()\n",
    "    geometries.append(mesh)\n",
    "    geometries.append(create_mesh_line_set(mesh, color=[i,i+2,i-1]))"
   ]
  },
  {
   "cell_type": "code",
   "execution_count": null,
   "metadata": {},
   "outputs": [],
   "source": [
    "visualization.draw_geometries(geometries)"
   ]
  },
  {
   "cell_type": "code",
   "execution_count": 15,
   "metadata": {},
   "outputs": [
    {
     "name": "stdout",
     "output_type": "stream",
     "text": [
      "PLY Mesh File Loaded\n"
     ]
    }
   ],
   "source": [
    "marbledir = '/Users/nickf/Desktop/Custom-Fit/Data/Subject Meshes/nf0_100.ply'\n",
    "mesh = read_mesh(marbledir)\n",
    "mesh.compute_vertex_normals()\n",
    "visualization.draw_geometries([mesh])"
   ]
  },
  {
   "cell_type": "code",
   "execution_count": null,
   "metadata": {},
   "outputs": [],
   "source": []
  },
  {
   "cell_type": "code",
   "execution_count": null,
   "metadata": {},
   "outputs": [],
   "source": []
  }
 ],
 "metadata": {
  "kernelspec": {
   "display_name": "Python 3",
   "language": "python",
   "name": "python3"
  },
  "language_info": {
   "codemirror_mode": {
    "name": "ipython",
    "version": 3
   },
   "file_extension": ".py",
   "mimetype": "text/x-python",
   "name": "python",
   "nbconvert_exporter": "python",
   "pygments_lexer": "ipython3",
   "version": "3.7.3"
  }
 },
 "nbformat": 4,
 "nbformat_minor": 2
}
